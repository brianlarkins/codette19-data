{
 "cells": [
  {
   "cell_type": "markdown",
   "metadata": {},
   "source": [
    "# Module 6: Displaying our Data\n",
    "\n",
    "In this section we are going to look at ways to display the information that we find from working with our datasets. Drawing plots and graphs can be complicated, so we'll stick to a basic example here. You are free to show your results as a table or can ask a counselor for help if you have questions.\n",
    "\n",
    "## Matplotlib\n",
    "\n",
    "Much like using Pandas for working with the dataset files, we need to use another package, *Matplotlib*, to draw graphs for us. We need to have a few lines of Python to setup things for using both Pandas and Matplotlib:"
   ]
  },
  {
   "cell_type": "code",
   "execution_count": null,
   "metadata": {},
   "outputs": [],
   "source": [
    "import pandas as pd                      # import pandas for data frames\n",
    "import numpy as np                       # numpy has math/stats functions\n",
    "import matplotlib.pyplot as plt          # need to plot figures\n",
    "\n",
    "plt.rcParams['figure.figsize'] = [7,5]   # make the default plot 7\" x 5\""
   ]
  },
  {
   "cell_type": "markdown",
   "metadata": {},
   "source": [
    "Once we have that setup, we can read in our data file. For this example, we're going to use the dataset about how many women work in the Federal government over time. Here we load in the data and print off the first 5 lines, using `head()`."
   ]
  },
  {
   "cell_type": "code",
   "execution_count": null,
   "metadata": {},
   "outputs": [],
   "source": [
    "df = pd.read_csv('gender-by-quarter.csv', index_col=0)\n",
    "df.head(5)"
   ]
  },
  {
   "cell_type": "markdown",
   "metadata": {},
   "source": [
    "Notice that the data we have is:\n",
    "\n",
    "* the date\n",
    "* whether the numbers are for permanent employees or people appointed by the President\n",
    "* the total number of employees\n",
    "* the total number of female employees\n",
    "* what percentage of employees are female\n",
    "\n",
    "We can use `describe()` to get a broad picture of what's in the data.\n"
   ]
  },
  {
   "cell_type": "code",
   "execution_count": null,
   "metadata": {},
   "outputs": [],
   "source": [
    "df.describe()"
   ]
  },
  {
   "cell_type": "markdown",
   "metadata": {},
   "source": [
    "By looking at this output we can see some things that help us understand the data already. For example, if we look at the **count** row, we can see that the dataset has 88 entries.\n",
    "\n",
    "If we look at the **pct_female** column, we can see that the maximum number of female employees is 53%, the minimum is 37%, and the average is 45.29%. \n",
    "\n",
    "While this is useful, it doesn't really help us understand how things have changed over time.\n",
    "\n",
    "Let's dig in a little closer and just take a look at the employees that were appointed to the office. These people are usually chosen by the President or their advisor and only work for the current President.\n",
    "\n",
    "We use a dataframe selection, to pick all the entries where the *toa_group* column is set to `midlevel-appointees`. After this, `df2` only has the rows for the appointees and not the permanent employees."
   ]
  },
  {
   "cell_type": "code",
   "execution_count": null,
   "metadata": {
    "scrolled": true
   },
   "outputs": [],
   "source": [
    "df2 = df[df['toa_group'] == \"midlevel-appointees\"]\n",
    "df2"
   ]
  },
  {
   "cell_type": "markdown",
   "metadata": {},
   "source": [
    "Now let's look at plotting this information in a graph. We would like to show how the percentage of female employees changes over time. We're in luck, since our data is organized by date. \n",
    "\n",
    "We only need to pick the column we are interested in, `pct_female`, and plot it on the graph.\n",
    "\n",
    "Most of the other lines are used to draw labels and titles, or change the formatting."
   ]
  },
  {
   "cell_type": "code",
   "execution_count": null,
   "metadata": {},
   "outputs": [],
   "source": [
    "# create a figure and set of axes to draw on\n",
    "fig,ax = plt.subplots()                     \n",
    "\n",
    "# set the title of our graph\n",
    "plt.title('Mid-level Female Federal Government Employees')\n",
    "\n",
    "# plot the percentage of female appointees over time into our plot\n",
    "df2['pct_female'].plot()\n",
    "\n",
    "# set the y-axis label and range\n",
    "plt.ylabel('% female employees')\n",
    "ax.set_ylim(0,70)\n",
    "\n",
    "# set the x-axis label and have it print the dates nicely\n",
    "plt.xlabel('Date')\n",
    "fig.autofmt_xdate()\n",
    "\n",
    "# show the plot on the screen\n",
    "plt.show()"
   ]
  },
  {
   "cell_type": "markdown",
   "metadata": {},
   "source": [
    "Here we can see that the number of female workers changes over time. \n",
    "\n",
    "From this graph, it looks that the number of appointed female federal workers was higher under the Clinton and Obama presidencies and lower during the Bush and Trump presidencies.\n",
    "\n",
    "### Now you try. ###\n",
    "\n",
    "Go back to the original data frame, `df`, and create a new data frame that only contains data for the permanent employees."
   ]
  },
  {
   "cell_type": "code",
   "execution_count": null,
   "metadata": {},
   "outputs": [],
   "source": []
  },
  {
   "cell_type": "markdown",
   "metadata": {},
   "source": [
    "Next, try to make a similar plot that shows the percentage of female employees over time"
   ]
  },
  {
   "cell_type": "code",
   "execution_count": null,
   "metadata": {},
   "outputs": [],
   "source": []
  },
  {
   "cell_type": "markdown",
   "metadata": {},
   "source": [
    "Next, try to plot the total number of total and female employees over time, not just their percentage. You can plot multiple columns on the same graph, just by using multiple `.plot()` statements."
   ]
  },
  {
   "cell_type": "code",
   "execution_count": null,
   "metadata": {},
   "outputs": [],
   "source": []
  }
 ],
 "metadata": {
  "kernelspec": {
   "display_name": "Python 3",
   "language": "python",
   "name": "python3"
  },
  "language_info": {
   "codemirror_mode": {
    "name": "ipython",
    "version": 3
   },
   "file_extension": ".py",
   "mimetype": "text/x-python",
   "name": "python",
   "nbconvert_exporter": "python",
   "pygments_lexer": "ipython3",
   "version": "3.6.8"
  }
 },
 "nbformat": 4,
 "nbformat_minor": 2
}
