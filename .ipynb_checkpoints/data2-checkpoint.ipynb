{
 "cells": [
  {
   "cell_type": "markdown",
   "metadata": {},
   "source": [
    "# Module 5: Basic Statistics\n",
    "\n",
    "Now we know how to find data and read it into our program. What should we do with it? \n",
    "\n",
    "There is an area of mathematics called *statistics* which gives us a lot of different ways to try and understand data. We don't have enough time to learn all of the different statistical methods, so we'll stick to the basics.\n",
    "\n",
    "If your project needs something a little bit more sophisticated that these techniques, talk to one of the counselors. There may be some features in Python that can help you without having to understand all of the math.\n",
    "\n",
    "## Another data set\n",
    "\n",
    "For this part, we're going to build a data frame ourselves instead of from a file. Let's imagine that we are a teacher and we have some grades for three different students. The Python code below creates a new data frame for our students -- each has 5 assignment grades."
   ]
  },
  {
   "cell_type": "code",
   "execution_count": null,
   "metadata": {},
   "outputs": [],
   "source": [
    "import pandas as pd        # import pandas for data frames\n",
    "import numpy as np         # numpy has math/stats functions\n",
    "\n",
    "df = pd.DataFrame({'alice'  : [100, 97, 92, 97, 85],\n",
    "                   'bob'    : [93, 62, 74, 81, 59 ],\n",
    "                   'charlie': [81, 84, 84, 84, 85 ]})\n",
    "\n",
    "df"
   ]
  },
  {
   "cell_type": "markdown",
   "metadata": {},
   "source": [
    "So, what can we learn from this data? Well, first off we could count how many things are in a row and we can add up all the grades."
   ]
  },
  {
   "cell_type": "code",
   "execution_count": null,
   "metadata": {},
   "outputs": [],
   "source": [
    "print(\"count:        \",df['alice'].count())   # count how many grades alice has\n",
    "print(\"sum:          \",df['alice'].sum())     # add up all of alice's grades\n"
   ]
  },
  {
   "cell_type": "markdown",
   "metadata": {},
   "source": [
    "We can get some basic understanding of our data by using the *mean* or average value of a data set. The *median* is the middle value of a sequence and can be a better measure than the average in some cases. The *mode* is the value that occurs the most number of times in a sequence."
   ]
  },
  {
   "cell_type": "code",
   "execution_count": null,
   "metadata": {},
   "outputs": [],
   "source": [
    "print(\"mean:         \",df['alice'].mean())    # mean and average are the same thing\n",
    "print(\"median:       \",df['alice'].median())  # find the middle grade in the range\n",
    "print(\"mode:         \",df['alice'].mode())    # find the value that is repeated the most"
   ]
  },
  {
   "cell_type": "markdown",
   "metadata": {},
   "source": [
    "We can work on several columns at once if we want, too. Just remember to use double brackets."
   ]
  },
  {
   "cell_type": "code",
   "execution_count": null,
   "metadata": {},
   "outputs": [],
   "source": [
    "df[['alice','bob','charlie']].mean()"
   ]
  },
  {
   "cell_type": "markdown",
   "metadata": {},
   "source": [
    "Another statistical measure we can use is called the *standard deviation*. It can tell us how \"spread out\" our data is. If we look at the grades above, we can see that Bob has some very good grades as well as some very bad grades. Charlie's grades, on the other hand, are all very close together. If we compute the standard deviations, we can see that bigger numbers mean that the grades are more spread out."
   ]
  },
  {
   "cell_type": "code",
   "execution_count": null,
   "metadata": {},
   "outputs": [],
   "source": [
    "print(\"standard dev of alice:   \",df['alice'].std())\n",
    "print(\"standard dev of bob:     \",df['bob'].std())\n",
    "print(\"standard dev of charlie: \",df['charlie'].std())"
   ]
  },
  {
   "cell_type": "markdown",
   "metadata": {},
   "source": [
    "We can use the `describe()` method to show us a lot of these measures all at once:"
   ]
  },
  {
   "cell_type": "code",
   "execution_count": null,
   "metadata": {},
   "outputs": [],
   "source": [
    "df.describe()"
   ]
  },
  {
   "cell_type": "markdown",
   "metadata": {},
   "source": [
    "You may have noticed that there often different ways to do the same thing. Here is another way to compute the average. This computes the mean of an entire column (so, all of Alice's grades, for example). We can also use this to compute the average of each row, so we can get the average grade on each assignment."
   ]
  },
  {
   "cell_type": "code",
   "execution_count": null,
   "metadata": {},
   "outputs": [],
   "source": [
    "df.apply(np.mean)"
   ]
  },
  {
   "cell_type": "code",
   "execution_count": null,
   "metadata": {},
   "outputs": [],
   "source": [
    "df.apply(np.mean,axis=1)"
   ]
  }
 ],
 "metadata": {
  "kernelspec": {
   "display_name": "Python 3",
   "language": "python",
   "name": "python3"
  },
  "language_info": {
   "codemirror_mode": {
    "name": "ipython",
    "version": 3
   },
   "file_extension": ".py",
   "mimetype": "text/x-python",
   "name": "python",
   "nbconvert_exporter": "python",
   "pygments_lexer": "ipython3",
   "version": "3.6.8"
  }
 },
 "nbformat": 4,
 "nbformat_minor": 2
}
