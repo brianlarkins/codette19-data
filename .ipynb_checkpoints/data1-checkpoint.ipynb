{
 "cells": [
  {
   "cell_type": "markdown",
   "metadata": {},
   "source": [
    "# Module 4: Working with data\n",
    "\n",
    "\n",
    "At this point we know enough about Python to be able to write some basic programs in our Jupyter notebook. What we don't know how to do yet is to work with information that will help us understand a problem and develop a solution for it.\n",
    "\n",
    "Most data that we will have access to is stored in *files*. A file is just a collection of information that can be stored on your computer or shared on the Internet. Most of the data we will be using is stored in **CSV** files (comma-separated value files). While you can read these files, they are designed to be easy from programs to work with.\n",
    "\n",
    "The types of data science problems we will be working on all follow a similar structure:\n",
    "\n",
    "1. *Find* a set of data that you want to use\n",
    "2. *Read* the data into a python data structure\n",
    "3. *Process* the data to find new insights\n",
    "4. *Visualize* your results so that they are easy to understand.\n",
    "\n",
    "Step one is done by looking through our list of data sets, or by finding one that you like somewhere on the Internet.\n",
    "\n",
    "This module is going to focus on step two. Once we have our data set in a file, how do we get it into a format that we can use with Python.\n",
    "\n",
    "\n",
    "\n",
    "# Using Pandas\n",
    "\n",
    "The tool we are going to use for reading in and working with data is called *Pandas*. Pandas uses something called a *data frame* to work with our data. A data frame is a lot like a dictionary, with some extra features. Let's see how to get started with reading a CSV file.\n",
    "\n",
    "For these examples, we're going to work with a data set of cars and trucks and has information about their fuel economy. Our CSV file looks like this:\n",
    "\n",
    "~~~~\n",
    "  \"\",\"manufacturer\",\"model\",\"displ\",\"year\",\"cyl\",\"trans\",\"drv\",\"cty\",\"hwy\",\"fl\",\"class\"\n",
    "  \"1\",\"audi\",\"a4\",1.8,1999,4,\"auto(l5)\",\"f\",18,29,\"p\",\"compact\"\n",
    "  \"2\",\"audi\",\"a4\",1.8,1999,4,\"manual(m5)\",\"f\",21,29,\"p\",\"compact\"\n",
    "  \"3\",\"audi\",\"a4\",2,2008,4,\"manual(m6)\",\"f\",20,31,\"p\",\"compact\"\n",
    "  \"4\",\"audi\",\"a4\",2,2008,4,\"auto(av)\",\"f\",21,30,\"p\",\"compact\"\n",
    "  \"5\",\"audi\",\"a4\",2.8,1999,6,\"auto(l5)\",\"f\",16,26,\"p\",\"compact\"\n",
    "~~~~\n",
    "\n",
    "This is just a portion of the file, but it should give you an idea of what a CSV file looks like. The CSV file is like a table, the first row has the names of all of the columns, and the other rows have information about specific cars (the table starts with 5 different types of Audi A4). \n",
    "\n",
    "Let's look at how we can read this into a Pandas data frame:"
   ]
  },
  {
   "cell_type": "code",
   "execution_count": null,
   "metadata": {},
   "outputs": [],
   "source": [
    "import pandas as pd\n",
    "\n",
    "df = pd.read_csv('mpg.csv', index_col=0)"
   ]
  },
  {
   "cell_type": "markdown",
   "metadata": {},
   "source": [
    "That's it! We now have all of the file information in a data frame. Let's try asking some basic questions and let the data frame answer them for us.\n",
    "\n",
    "For starters, how many cars are in the data set? \n",
    "\n",
    "For this we can use the `len()` function to find out how long the data frame is:"
   ]
  },
  {
   "cell_type": "code",
   "execution_count": null,
   "metadata": {},
   "outputs": [],
   "source": [
    "len(df)"
   ]
  },
  {
   "cell_type": "markdown",
   "metadata": {},
   "source": [
    "Next, let's have Jupyter print out a portion of the data frame:"
   ]
  },
  {
   "cell_type": "code",
   "execution_count": null,
   "metadata": {},
   "outputs": [],
   "source": [
    "df[0:5]"
   ]
  },
  {
   "cell_type": "markdown",
   "metadata": {},
   "source": [
    "We can print out a single entry by using the `iloc()` function on the data frame. It takes an *index* into the data set. This example prints the 168th car in the dataset (remember that we always start from 0, not 1)."
   ]
  },
  {
   "cell_type": "code",
   "execution_count": null,
   "metadata": {},
   "outputs": [],
   "source": [
    "df.iloc[167]"
   ]
  },
  {
   "cell_type": "markdown",
   "metadata": {},
   "source": [
    "### Now you try.\n",
    "\n",
    "Write a block that prints the last 10 lines of the data frame:"
   ]
  },
  {
   "cell_type": "code",
   "execution_count": null,
   "metadata": {},
   "outputs": [],
   "source": []
  },
  {
   "cell_type": "markdown",
   "metadata": {},
   "source": [
    "Write a block that prints off the 100th car in the data frame:"
   ]
  },
  {
   "cell_type": "code",
   "execution_count": null,
   "metadata": {},
   "outputs": [],
   "source": []
  },
  {
   "cell_type": "markdown",
   "metadata": {},
   "source": [
    "Another good question we might want to ask is \"which car gets the best gas mileage in our data set?\" Let's see how we might go about answering this. First off, notice that our dataset actually has **two** gas mileage data points -- city and highway. \n",
    "\n",
    "We can treat our data frame like a dictionary if we'd like to focus on a single column. Let's look at the highway data:"
   ]
  },
  {
   "cell_type": "code",
   "execution_count": null,
   "metadata": {},
   "outputs": [],
   "source": [
    "df['hwy']"
   ]
  },
  {
   "cell_type": "markdown",
   "metadata": {},
   "source": [
    "We can use the built-in function *max()* to find out the best mileage:"
   ]
  },
  {
   "cell_type": "code",
   "execution_count": null,
   "metadata": {},
   "outputs": [],
   "source": [
    "max(df['hwy'])"
   ]
  },
  {
   "cell_type": "markdown",
   "metadata": {},
   "source": [
    "This is helpful, but it just tells us the best gas mileage, not which car it belongs to. We will need to use another special feature of the data frame to get this. We can use a *selection* on the data frame to find out interesting things.\n",
    "\n",
    "For example, let's say that we want to display all of the cars in our dataset that get better than 35 miles/gal on the highway. We can write our selection like this:\n"
   ]
  },
  {
   "cell_type": "code",
   "execution_count": null,
   "metadata": {},
   "outputs": [],
   "source": [
    "df[df['hwy'] > 35]   # select all rows where the highway column is greater than 35"
   ]
  },
  {
   "cell_type": "markdown",
   "metadata": {},
   "source": [
    "Now we can finally answer our question. We'll break it into two parts. First we'll find the highest mileage and save it in a variable. Then, we *select* all the rows in the highway column which are equal to the max."
   ]
  },
  {
   "cell_type": "code",
   "execution_count": null,
   "metadata": {},
   "outputs": [],
   "source": [
    "max_hwy_mpg = max(df['hwy'])     # find the highest highway miles/gallon\n",
    "df[df['hwy'] == max_hwy_mpg]     # select all rows where the highway mpg is equal to the max"
   ]
  },
  {
   "cell_type": "markdown",
   "metadata": {},
   "source": [
    "Here we can see that there are two cars that get the best gas mileage. \n",
    "\n",
    "### Now you try. \n",
    "\n",
    "Try to write a block of code that finds the cars with the **worst** highway mileage. There is another built-in function called `min()`, which will be helpful."
   ]
  },
  {
   "cell_type": "code",
   "execution_count": null,
   "metadata": {},
   "outputs": [],
   "source": []
  },
  {
   "cell_type": "markdown",
   "metadata": {},
   "source": [
    "What if we wanted to know what the biggest difference in highway vs. city mileage was? For example, the Volkswagen Jetta that we found above has a city of 33 mpg and a highway of 44 mpg. The difference is 11 mpg. How would we find the car that has the biggest difference?\n",
    "\n",
    "It's not as bad as it might seem. We just follow the same pattern we've already used:"
   ]
  },
  {
   "cell_type": "code",
   "execution_count": null,
   "metadata": {},
   "outputs": [],
   "source": [
    "diff_mpg = df['hwy'] - df['cty']   # compute a new column for the differences\n",
    "diff_mpg[:10]                      # print off the first 10 entries"
   ]
  },
  {
   "cell_type": "markdown",
   "metadata": {},
   "source": [
    "Now we can use `max()` to find the biggest difference and select those rows from the data frame."
   ]
  },
  {
   "cell_type": "code",
   "execution_count": null,
   "metadata": {},
   "outputs": [],
   "source": [
    "max_diff_mpg = max(diff_mpg)\n",
    "df[(df['hwy'] - df['cty']) == max_diff_mpg]"
   ]
  },
  {
   "cell_type": "markdown",
   "metadata": {},
   "source": [
    "Pandas also has a number of things that can help us understand our data better. Let's use a smaller part of the data frame to make our output smaller.\n",
    "\n",
    "Check out these examples:"
   ]
  },
  {
   "cell_type": "code",
   "execution_count": null,
   "metadata": {},
   "outputs": [],
   "source": [
    "smaller = df.head(10)          # only use the first 10 rows of the data set\n",
    "\n",
    "smaller.sort_values('hwy')     # sort the highway column in ascending order"
   ]
  },
  {
   "cell_type": "code",
   "execution_count": null,
   "metadata": {},
   "outputs": [],
   "source": [
    "smaller[['manufacturer','model']]     # select multiple columns at once"
   ]
  },
  {
   "cell_type": "code",
   "execution_count": null,
   "metadata": {},
   "outputs": [],
   "source": [
    "df.nlargest(5,'hwy')    # pick the 5 rows with the highest highway mpg"
   ]
  },
  {
   "cell_type": "code",
   "execution_count": null,
   "metadata": {},
   "outputs": [],
   "source": [
    "df.nsmallest(5,'hwy')"
   ]
  },
  {
   "cell_type": "markdown",
   "metadata": {},
   "source": [
    "We can also make new columns. Let's make a new column that has the *average* city/highway mpg:"
   ]
  },
  {
   "cell_type": "code",
   "execution_count": null,
   "metadata": {},
   "outputs": [],
   "source": [
    "df['avg'] = (df.cty+df.hwy)/2     # compute the average city/hwy\n",
    "df.tail(10)                       # print off the last 10 values"
   ]
  }
 ],
 "metadata": {
  "kernelspec": {
   "display_name": "Python 3",
   "language": "python",
   "name": "python3"
  },
  "language_info": {
   "codemirror_mode": {
    "name": "ipython",
    "version": 3
   },
   "file_extension": ".py",
   "mimetype": "text/x-python",
   "name": "python",
   "nbconvert_exporter": "python",
   "pygments_lexer": "ipython3",
   "version": "3.6.8"
  }
 },
 "nbformat": 4,
 "nbformat_minor": 2
}
